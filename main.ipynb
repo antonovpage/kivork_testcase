{
 "cells": [
  {
   "cell_type": "markdown",
   "id": "a6890e78",
   "metadata": {},
   "source": [
    "KIVORK / Junior Product Analyst / Antonov Alexander"
   ]
  },
  {
   "cell_type": "code",
   "execution_count": 1,
   "id": "9000845f",
   "metadata": {},
   "outputs": [],
   "source": [
    "import pandas as pd\n",
    "import numpy as np\n",
    "from datetime import datetime, timedelta\n",
    "import seaborn as sns\n",
    "from scipy import optimize\n",
    "from matplotlib import pyplot as plt\n",
    "%matplotlib inline"
   ]
  },
  {
   "cell_type": "code",
   "execution_count": 2,
   "id": "fefe2331",
   "metadata": {},
   "outputs": [
    {
     "data": {
      "text/html": [
       "<div>\n",
       "<style scoped>\n",
       "    .dataframe tbody tr th:only-of-type {\n",
       "        vertical-align: middle;\n",
       "    }\n",
       "\n",
       "    .dataframe tbody tr th {\n",
       "        vertical-align: top;\n",
       "    }\n",
       "\n",
       "    .dataframe thead th {\n",
       "        text-align: right;\n",
       "    }\n",
       "</style>\n",
       "<table border=\"1\" class=\"dataframe\">\n",
       "  <thead>\n",
       "    <tr style=\"text-align: right;\">\n",
       "      <th></th>\n",
       "      <th>product_id</th>\n",
       "      <th>quantity</th>\n",
       "      <th>is_trial_period</th>\n",
       "      <th>purchase_date</th>\n",
       "      <th>user_id</th>\n",
       "    </tr>\n",
       "  </thead>\n",
       "  <tbody>\n",
       "    <tr>\n",
       "      <th>0</th>\n",
       "      <td>1week_4.99_USD_subscription_7days_trial</td>\n",
       "      <td>1</td>\n",
       "      <td>ЛОЖЬ</td>\n",
       "      <td>19.02.2020</td>\n",
       "      <td>9484222</td>\n",
       "    </tr>\n",
       "    <tr>\n",
       "      <th>1</th>\n",
       "      <td>1week_4.99_USD_subscription_7days_trial</td>\n",
       "      <td>1</td>\n",
       "      <td>ЛОЖЬ</td>\n",
       "      <td>17.02.2020</td>\n",
       "      <td>9422402</td>\n",
       "    </tr>\n",
       "    <tr>\n",
       "      <th>2</th>\n",
       "      <td>1week_4.99_USD_subscription_7days_trial</td>\n",
       "      <td>1</td>\n",
       "      <td>ЛОЖЬ</td>\n",
       "      <td>18.02.2020</td>\n",
       "      <td>4997991</td>\n",
       "    </tr>\n",
       "    <tr>\n",
       "      <th>3</th>\n",
       "      <td>1week_4.99_USD_subscription_7days_trial</td>\n",
       "      <td>1</td>\n",
       "      <td>ЛОЖЬ</td>\n",
       "      <td>18.02.2020</td>\n",
       "      <td>9455582</td>\n",
       "    </tr>\n",
       "    <tr>\n",
       "      <th>4</th>\n",
       "      <td>1week_4.99_USD_subscription_7days_trial</td>\n",
       "      <td>1</td>\n",
       "      <td>ЛОЖЬ</td>\n",
       "      <td>16.02.2020</td>\n",
       "      <td>8803657</td>\n",
       "    </tr>\n",
       "  </tbody>\n",
       "</table>\n",
       "</div>"
      ],
      "text/plain": [
       "                                product_id  quantity is_trial_period  \\\n",
       "0  1week_4.99_USD_subscription_7days_trial         1            ЛОЖЬ   \n",
       "1  1week_4.99_USD_subscription_7days_trial         1            ЛОЖЬ   \n",
       "2  1week_4.99_USD_subscription_7days_trial         1            ЛОЖЬ   \n",
       "3  1week_4.99_USD_subscription_7days_trial         1            ЛОЖЬ   \n",
       "4  1week_4.99_USD_subscription_7days_trial         1            ЛОЖЬ   \n",
       "\n",
       "  purchase_date  user_id  \n",
       "0    19.02.2020  9484222  \n",
       "1    17.02.2020  9422402  \n",
       "2    18.02.2020  4997991  \n",
       "3    18.02.2020  9455582  \n",
       "4    16.02.2020  8803657  "
      ]
     },
     "execution_count": 2,
     "metadata": {},
     "output_type": "execute_result"
    }
   ],
   "source": [
    "data = pd.read_csv('data.csv', sep=';')\n",
    "data.head()"
   ]
  },
  {
   "cell_type": "code",
   "execution_count": 3,
   "id": "b2489b9e",
   "metadata": {},
   "outputs": [
    {
     "name": "stdout",
     "output_type": "stream",
     "text": [
      "<class 'pandas.core.frame.DataFrame'>\n",
      "RangeIndex: 114200 entries, 0 to 114199\n",
      "Data columns (total 5 columns):\n",
      " #   Column           Non-Null Count   Dtype \n",
      "---  ------           --------------   ----- \n",
      " 0   product_id       114200 non-null  object\n",
      " 1   quantity         114200 non-null  int64 \n",
      " 2   is_trial_period  114200 non-null  object\n",
      " 3   purchase_date    114200 non-null  object\n",
      " 4   user_id          114200 non-null  int64 \n",
      "dtypes: int64(2), object(3)\n",
      "memory usage: 4.4+ MB\n"
     ]
    }
   ],
   "source": [
    "data.info()"
   ]
  },
  {
   "cell_type": "markdown",
   "id": "30ba2d6f",
   "metadata": {},
   "source": [
    "Change the data type in the column with the purchase_date. Columns with the value of the trial period to lowercase and name of the product, after - look at the number of duplicates:"
   ]
  },
  {
   "cell_type": "code",
   "execution_count": 4,
   "id": "cdf33ff6",
   "metadata": {},
   "outputs": [
    {
     "data": {
      "text/plain": [
       "84"
      ]
     },
     "execution_count": 4,
     "metadata": {},
     "output_type": "execute_result"
    }
   ],
   "source": [
    "data['purchase_date'] = pd.to_datetime(data.purchase_date, dayfirst=True)\n",
    "data['product_id'] = data['product_id'].str.lower()\n",
    "data['is_trial_period'] = data['is_trial_period'].str.lower()\n",
    "data.duplicated().sum()"
   ]
  },
  {
   "cell_type": "markdown",
   "id": "f1b5251d",
   "metadata": {},
   "source": [
    "Remove completely duplicated lines:"
   ]
  },
  {
   "cell_type": "code",
   "execution_count": 5,
   "id": "7ed42f43",
   "metadata": {},
   "outputs": [
    {
     "data": {
      "text/plain": [
       "0"
      ]
     },
     "execution_count": 5,
     "metadata": {},
     "output_type": "execute_result"
    }
   ],
   "source": [
    "data = data.drop_duplicates().reset_index(drop=True)\n",
    "data.duplicated().sum()"
   ]
  },
  {
   "cell_type": "markdown",
   "id": "c8fd04a6",
   "metadata": {},
   "source": [
    "Change the name of the column with the date of purchase to \"event date\", and also place them in a more logical sequence:"
   ]
  },
  {
   "cell_type": "code",
   "execution_count": 6,
   "id": "d70e6d6b",
   "metadata": {},
   "outputs": [],
   "source": [
    "data.rename(columns = {'purchase_date': 'event_dt'}, inplace=True)\n",
    "data['is_trial_period'] = data['is_trial_period'].map({'истина': True, 'ложь': False})\n",
    "data = data.reindex(columns=['user_id', 'product_id', 'is_trial_period', 'quantity', 'event_dt'])"
   ]
  },
  {
   "cell_type": "markdown",
   "id": "9579b29f",
   "metadata": {},
   "source": [
    "#### 1. 1. Calculate the user's current LTV using cohort analysis (cohorting event - registration of the trial period, the cohort represents the number of possible operations)."
   ]
  },
  {
   "cell_type": "markdown",
   "id": "bb7cec91",
   "metadata": {},
   "source": [
    "Let's see what date range we have:"
   ]
  },
  {
   "cell_type": "code",
   "execution_count": 7,
   "id": "4f9ec080",
   "metadata": {},
   "outputs": [
    {
     "data": {
      "text/plain": [
       "Timestamp('2020-01-01 00:00:00')"
      ]
     },
     "execution_count": 7,
     "metadata": {},
     "output_type": "execute_result"
    }
   ],
   "source": [
    "data['event_dt'].min()"
   ]
  },
  {
   "cell_type": "code",
   "execution_count": 8,
   "id": "1050ca50",
   "metadata": {},
   "outputs": [
    {
     "data": {
      "text/plain": [
       "Timestamp('2020-02-20 00:00:00')"
      ]
     },
     "execution_count": 8,
     "metadata": {},
     "output_type": "execute_result"
    }
   ],
   "source": [
    "data['event_dt'].max()"
   ]
  },
  {
   "cell_type": "markdown",
   "id": "c2bc02b9",
   "metadata": {},
   "source": [
    "Add a column with the date of the first session (i.e. registration of the trial period in the app):"
   ]
  },
  {
   "cell_type": "code",
   "execution_count": 9,
   "id": "34f6cfcf",
   "metadata": {},
   "outputs": [
    {
     "data": {
      "text/html": [
       "<div>\n",
       "<style scoped>\n",
       "    .dataframe tbody tr th:only-of-type {\n",
       "        vertical-align: middle;\n",
       "    }\n",
       "\n",
       "    .dataframe tbody tr th {\n",
       "        vertical-align: top;\n",
       "    }\n",
       "\n",
       "    .dataframe thead th {\n",
       "        text-align: right;\n",
       "    }\n",
       "</style>\n",
       "<table border=\"1\" class=\"dataframe\">\n",
       "  <thead>\n",
       "    <tr style=\"text-align: right;\">\n",
       "      <th></th>\n",
       "      <th>user_id</th>\n",
       "      <th>product_id</th>\n",
       "      <th>is_trial_period</th>\n",
       "      <th>quantity</th>\n",
       "      <th>event_dt</th>\n",
       "      <th>first_session</th>\n",
       "    </tr>\n",
       "  </thead>\n",
       "  <tbody>\n",
       "    <tr>\n",
       "      <th>0</th>\n",
       "      <td>9484222</td>\n",
       "      <td>1week_4.99_usd_subscription_7days_trial</td>\n",
       "      <td>False</td>\n",
       "      <td>1</td>\n",
       "      <td>2020-02-19</td>\n",
       "      <td>2020-02-12</td>\n",
       "    </tr>\n",
       "    <tr>\n",
       "      <th>1</th>\n",
       "      <td>9422402</td>\n",
       "      <td>1week_4.99_usd_subscription_7days_trial</td>\n",
       "      <td>False</td>\n",
       "      <td>1</td>\n",
       "      <td>2020-02-17</td>\n",
       "      <td>2020-02-10</td>\n",
       "    </tr>\n",
       "    <tr>\n",
       "      <th>2</th>\n",
       "      <td>4997991</td>\n",
       "      <td>1week_4.99_usd_subscription_7days_trial</td>\n",
       "      <td>False</td>\n",
       "      <td>1</td>\n",
       "      <td>2020-02-18</td>\n",
       "      <td>2020-02-11</td>\n",
       "    </tr>\n",
       "    <tr>\n",
       "      <th>3</th>\n",
       "      <td>9455582</td>\n",
       "      <td>1week_4.99_usd_subscription_7days_trial</td>\n",
       "      <td>False</td>\n",
       "      <td>1</td>\n",
       "      <td>2020-02-18</td>\n",
       "      <td>2020-02-11</td>\n",
       "    </tr>\n",
       "    <tr>\n",
       "      <th>4</th>\n",
       "      <td>8803657</td>\n",
       "      <td>1week_4.99_usd_subscription_7days_trial</td>\n",
       "      <td>False</td>\n",
       "      <td>1</td>\n",
       "      <td>2020-02-16</td>\n",
       "      <td>2020-01-19</td>\n",
       "    </tr>\n",
       "  </tbody>\n",
       "</table>\n",
       "</div>"
      ],
      "text/plain": [
       "   user_id                               product_id  is_trial_period  \\\n",
       "0  9484222  1week_4.99_usd_subscription_7days_trial            False   \n",
       "1  9422402  1week_4.99_usd_subscription_7days_trial            False   \n",
       "2  4997991  1week_4.99_usd_subscription_7days_trial            False   \n",
       "3  9455582  1week_4.99_usd_subscription_7days_trial            False   \n",
       "4  8803657  1week_4.99_usd_subscription_7days_trial            False   \n",
       "\n",
       "   quantity   event_dt first_session  \n",
       "0         1 2020-02-19    2020-02-12  \n",
       "1         1 2020-02-17    2020-02-10  \n",
       "2         1 2020-02-18    2020-02-11  \n",
       "3         1 2020-02-18    2020-02-11  \n",
       "4         1 2020-02-16    2020-01-19  "
      ]
     },
     "execution_count": 9,
     "metadata": {},
     "output_type": "execute_result"
    }
   ],
   "source": [
    "first_session = data.groupby(['user_id']).agg({'event_dt':'min'})\n",
    "first_session.columns = ['first_session']\n",
    "data = data.join(first_session, on='user_id')\n",
    "data.head()"
   ]
  },
  {
   "cell_type": "markdown",
   "id": "6bb7ad3e",
   "metadata": {},
   "source": [
    "Add the \"revenue\" column: if the trial period is 0 dollars, if the registration is a paid subscription: - 4.99"
   ]
  },
  {
   "cell_type": "code",
   "execution_count": 10,
   "id": "c2eec2fd",
   "metadata": {},
   "outputs": [],
   "source": [
    "data['revenue'] = np.where(data['is_trial_period'] == False, '4.99', '0')\n",
    "data['revenue'] = data['revenue'].astype(float)"
   ]
  },
  {
   "cell_type": "markdown",
   "id": "e9903d42",
   "metadata": {},
   "source": [
    "Let's add columns with the date of the beginning of the week when the trial period was completed, as well as a column with the date of the beginning of the week when any action was taken by the user. We also define lifetime:"
   ]
  },
  {
   "cell_type": "code",
   "execution_count": 11,
   "id": "5df56ab3",
   "metadata": {},
   "outputs": [
    {
     "data": {
      "text/html": [
       "<div>\n",
       "<style scoped>\n",
       "    .dataframe tbody tr th:only-of-type {\n",
       "        vertical-align: middle;\n",
       "    }\n",
       "\n",
       "    .dataframe tbody tr th {\n",
       "        vertical-align: top;\n",
       "    }\n",
       "\n",
       "    .dataframe thead th {\n",
       "        text-align: right;\n",
       "    }\n",
       "</style>\n",
       "<table border=\"1\" class=\"dataframe\">\n",
       "  <thead>\n",
       "    <tr style=\"text-align: right;\">\n",
       "      <th></th>\n",
       "      <th>user_id</th>\n",
       "      <th>product_id</th>\n",
       "      <th>is_trial_period</th>\n",
       "      <th>quantity</th>\n",
       "      <th>event_dt</th>\n",
       "      <th>first_session</th>\n",
       "      <th>revenue</th>\n",
       "      <th>first_week</th>\n",
       "      <th>event_week</th>\n",
       "      <th>lifetime</th>\n",
       "    </tr>\n",
       "  </thead>\n",
       "  <tbody>\n",
       "    <tr>\n",
       "      <th>0</th>\n",
       "      <td>9484222</td>\n",
       "      <td>1week_4.99_usd_subscription_7days_trial</td>\n",
       "      <td>False</td>\n",
       "      <td>1</td>\n",
       "      <td>2020-02-19</td>\n",
       "      <td>2020-02-12</td>\n",
       "      <td>4.99</td>\n",
       "      <td>2020-02-10</td>\n",
       "      <td>2020-02-17</td>\n",
       "      <td>1</td>\n",
       "    </tr>\n",
       "    <tr>\n",
       "      <th>1</th>\n",
       "      <td>9422402</td>\n",
       "      <td>1week_4.99_usd_subscription_7days_trial</td>\n",
       "      <td>False</td>\n",
       "      <td>1</td>\n",
       "      <td>2020-02-17</td>\n",
       "      <td>2020-02-10</td>\n",
       "      <td>4.99</td>\n",
       "      <td>2020-02-10</td>\n",
       "      <td>2020-02-17</td>\n",
       "      <td>1</td>\n",
       "    </tr>\n",
       "    <tr>\n",
       "      <th>2</th>\n",
       "      <td>4997991</td>\n",
       "      <td>1week_4.99_usd_subscription_7days_trial</td>\n",
       "      <td>False</td>\n",
       "      <td>1</td>\n",
       "      <td>2020-02-18</td>\n",
       "      <td>2020-02-11</td>\n",
       "      <td>4.99</td>\n",
       "      <td>2020-02-10</td>\n",
       "      <td>2020-02-17</td>\n",
       "      <td>1</td>\n",
       "    </tr>\n",
       "    <tr>\n",
       "      <th>3</th>\n",
       "      <td>9455582</td>\n",
       "      <td>1week_4.99_usd_subscription_7days_trial</td>\n",
       "      <td>False</td>\n",
       "      <td>1</td>\n",
       "      <td>2020-02-18</td>\n",
       "      <td>2020-02-11</td>\n",
       "      <td>4.99</td>\n",
       "      <td>2020-02-10</td>\n",
       "      <td>2020-02-17</td>\n",
       "      <td>1</td>\n",
       "    </tr>\n",
       "    <tr>\n",
       "      <th>4</th>\n",
       "      <td>8803657</td>\n",
       "      <td>1week_4.99_usd_subscription_7days_trial</td>\n",
       "      <td>False</td>\n",
       "      <td>1</td>\n",
       "      <td>2020-02-16</td>\n",
       "      <td>2020-01-19</td>\n",
       "      <td>4.99</td>\n",
       "      <td>2020-01-13</td>\n",
       "      <td>2020-02-10</td>\n",
       "      <td>4</td>\n",
       "    </tr>\n",
       "  </tbody>\n",
       "</table>\n",
       "</div>"
      ],
      "text/plain": [
       "   user_id                               product_id  is_trial_period  \\\n",
       "0  9484222  1week_4.99_usd_subscription_7days_trial            False   \n",
       "1  9422402  1week_4.99_usd_subscription_7days_trial            False   \n",
       "2  4997991  1week_4.99_usd_subscription_7days_trial            False   \n",
       "3  9455582  1week_4.99_usd_subscription_7days_trial            False   \n",
       "4  8803657  1week_4.99_usd_subscription_7days_trial            False   \n",
       "\n",
       "   quantity   event_dt first_session  revenue first_week event_week  lifetime  \n",
       "0         1 2020-02-19    2020-02-12     4.99 2020-02-10 2020-02-17         1  \n",
       "1         1 2020-02-17    2020-02-10     4.99 2020-02-10 2020-02-17         1  \n",
       "2         1 2020-02-18    2020-02-11     4.99 2020-02-10 2020-02-17         1  \n",
       "3         1 2020-02-18    2020-02-11     4.99 2020-02-10 2020-02-17         1  \n",
       "4         1 2020-02-16    2020-01-19     4.99 2020-01-13 2020-02-10         4  "
      ]
     },
     "execution_count": 11,
     "metadata": {},
     "output_type": "execute_result"
    }
   ],
   "source": [
    "data['first_week'] = data['first_session'] - data['first_session'].dt.weekday.astype('timedelta64[D]')\n",
    "data['event_week'] = data['event_dt'] - data['event_dt'].dt.weekday.astype('timedelta64[D]')\n",
    "data['lifetime'] = data['event_week'] - data['first_week']\n",
    "data['lifetime'] = data['lifetime'] / np.timedelta64(1,'W')\n",
    "data['lifetime'] = data['lifetime'].round().astype('int')\n",
    "data.head()"
   ]
  },
  {
   "cell_type": "markdown",
   "id": "91f9cb1f",
   "metadata": {},
   "source": [
    "For cohorts, we take - a week of registration of a trial subscription. Let's see how many users joined for everyweek:"
   ]
  },
  {
   "cell_type": "code",
   "execution_count": 12,
   "id": "964d6ba1",
   "metadata": {},
   "outputs": [
    {
     "data": {
      "text/html": [
       "<div>\n",
       "<style scoped>\n",
       "    .dataframe tbody tr th:only-of-type {\n",
       "        vertical-align: middle;\n",
       "    }\n",
       "\n",
       "    .dataframe tbody tr th {\n",
       "        vertical-align: top;\n",
       "    }\n",
       "\n",
       "    .dataframe thead th {\n",
       "        text-align: right;\n",
       "    }\n",
       "</style>\n",
       "<table border=\"1\" class=\"dataframe\">\n",
       "  <thead>\n",
       "    <tr style=\"text-align: right;\">\n",
       "      <th></th>\n",
       "      <th>first_week</th>\n",
       "      <th>n_users</th>\n",
       "    </tr>\n",
       "  </thead>\n",
       "  <tbody>\n",
       "    <tr>\n",
       "      <th>0</th>\n",
       "      <td>2019-12-30</td>\n",
       "      <td>6629</td>\n",
       "    </tr>\n",
       "    <tr>\n",
       "      <th>1</th>\n",
       "      <td>2020-01-06</td>\n",
       "      <td>8429</td>\n",
       "    </tr>\n",
       "    <tr>\n",
       "      <th>2</th>\n",
       "      <td>2020-01-13</td>\n",
       "      <td>9134</td>\n",
       "    </tr>\n",
       "    <tr>\n",
       "      <th>3</th>\n",
       "      <td>2020-01-20</td>\n",
       "      <td>8185</td>\n",
       "    </tr>\n",
       "    <tr>\n",
       "      <th>4</th>\n",
       "      <td>2020-01-27</td>\n",
       "      <td>8315</td>\n",
       "    </tr>\n",
       "    <tr>\n",
       "      <th>5</th>\n",
       "      <td>2020-02-03</td>\n",
       "      <td>9066</td>\n",
       "    </tr>\n",
       "    <tr>\n",
       "      <th>6</th>\n",
       "      <td>2020-02-10</td>\n",
       "      <td>9038</td>\n",
       "    </tr>\n",
       "    <tr>\n",
       "      <th>7</th>\n",
       "      <td>2020-02-17</td>\n",
       "      <td>4113</td>\n",
       "    </tr>\n",
       "  </tbody>\n",
       "</table>\n",
       "</div>"
      ],
      "text/plain": [
       "  first_week  n_users\n",
       "0 2019-12-30     6629\n",
       "1 2020-01-06     8429\n",
       "2 2020-01-13     9134\n",
       "3 2020-01-20     8185\n",
       "4 2020-01-27     8315\n",
       "5 2020-02-03     9066\n",
       "6 2020-02-10     9038\n",
       "7 2020-02-17     4113"
      ]
     },
     "execution_count": 12,
     "metadata": {},
     "output_type": "execute_result"
    }
   ],
   "source": [
    "nusers_by_cohort = data.groupby(['first_week']).agg({'user_id': 'nunique'}).reset_index()\n",
    "nusers_by_cohort.columns = ['first_week', 'n_users']\n",
    "nusers_by_cohort"
   ]
  },
  {
   "cell_type": "markdown",
   "id": "e3dfc87e",
   "metadata": {},
   "source": [
    "Let's also see cumulative revenue we received in a given week:"
   ]
  },
  {
   "cell_type": "code",
   "execution_count": 13,
   "id": "d595fd80",
   "metadata": {},
   "outputs": [
    {
     "data": {
      "text/html": [
       "<div>\n",
       "<style scoped>\n",
       "    .dataframe tbody tr th:only-of-type {\n",
       "        vertical-align: middle;\n",
       "    }\n",
       "\n",
       "    .dataframe tbody tr th {\n",
       "        vertical-align: top;\n",
       "    }\n",
       "\n",
       "    .dataframe thead th {\n",
       "        text-align: right;\n",
       "    }\n",
       "</style>\n",
       "<table border=\"1\" class=\"dataframe\">\n",
       "  <thead>\n",
       "    <tr style=\"text-align: right;\">\n",
       "      <th></th>\n",
       "      <th>first_week</th>\n",
       "      <th>lifetime</th>\n",
       "      <th>cumsum</th>\n",
       "    </tr>\n",
       "  </thead>\n",
       "  <tbody>\n",
       "    <tr>\n",
       "      <th>0</th>\n",
       "      <td>2019-12-30</td>\n",
       "      <td>0</td>\n",
       "      <td>24.95</td>\n",
       "    </tr>\n",
       "    <tr>\n",
       "      <th>1</th>\n",
       "      <td>2019-12-30</td>\n",
       "      <td>1</td>\n",
       "      <td>12320.31</td>\n",
       "    </tr>\n",
       "    <tr>\n",
       "      <th>2</th>\n",
       "      <td>2019-12-30</td>\n",
       "      <td>2</td>\n",
       "      <td>22435.04</td>\n",
       "    </tr>\n",
       "    <tr>\n",
       "      <th>3</th>\n",
       "      <td>2019-12-30</td>\n",
       "      <td>3</td>\n",
       "      <td>31357.16</td>\n",
       "    </tr>\n",
       "    <tr>\n",
       "      <th>4</th>\n",
       "      <td>2019-12-30</td>\n",
       "      <td>4</td>\n",
       "      <td>39510.82</td>\n",
       "    </tr>\n",
       "  </tbody>\n",
       "</table>\n",
       "</div>"
      ],
      "text/plain": [
       "  first_week  lifetime    cumsum\n",
       "0 2019-12-30         0     24.95\n",
       "1 2019-12-30         1  12320.31\n",
       "2 2019-12-30         2  22435.04\n",
       "3 2019-12-30         3  31357.16\n",
       "4 2019-12-30         4  39510.82"
      ]
     },
     "execution_count": 13,
     "metadata": {},
     "output_type": "execute_result"
    }
   ],
   "source": [
    "purchase_by_cohort = data.groupby(['first_week', 'lifetime']).agg({'revenue': 'sum'}).groupby(level=0).cumsum().reset_index()\n",
    "purchase_by_cohort.rename(columns = {'revenue': 'cumsum'}, inplace=True)\n",
    "purchase_by_cohort.head()"
   ]
  },
  {
   "cell_type": "markdown",
   "id": "77e83431",
   "metadata": {},
   "source": [
    "Calculate LTV:"
   ]
  },
  {
   "cell_type": "code",
   "execution_count": 14,
   "id": "3298b166",
   "metadata": {},
   "outputs": [
    {
     "data": {
      "text/html": [
       "<div>\n",
       "<style scoped>\n",
       "    .dataframe tbody tr th:only-of-type {\n",
       "        vertical-align: middle;\n",
       "    }\n",
       "\n",
       "    .dataframe tbody tr th {\n",
       "        vertical-align: top;\n",
       "    }\n",
       "\n",
       "    .dataframe thead th {\n",
       "        text-align: right;\n",
       "    }\n",
       "</style>\n",
       "<table border=\"1\" class=\"dataframe\">\n",
       "  <thead>\n",
       "    <tr style=\"text-align: right;\">\n",
       "      <th></th>\n",
       "      <th>index</th>\n",
       "      <th>first_week</th>\n",
       "      <th>n_users</th>\n",
       "      <th>lifetime</th>\n",
       "      <th>cumsum</th>\n",
       "    </tr>\n",
       "  </thead>\n",
       "  <tbody>\n",
       "    <tr>\n",
       "      <th>0</th>\n",
       "      <td>0</td>\n",
       "      <td>2019-12-30</td>\n",
       "      <td>6629</td>\n",
       "      <td>0</td>\n",
       "      <td>24.95</td>\n",
       "    </tr>\n",
       "    <tr>\n",
       "      <th>1</th>\n",
       "      <td>1</td>\n",
       "      <td>2019-12-30</td>\n",
       "      <td>6629</td>\n",
       "      <td>1</td>\n",
       "      <td>12320.31</td>\n",
       "    </tr>\n",
       "    <tr>\n",
       "      <th>2</th>\n",
       "      <td>2</td>\n",
       "      <td>2019-12-30</td>\n",
       "      <td>6629</td>\n",
       "      <td>2</td>\n",
       "      <td>22435.04</td>\n",
       "    </tr>\n",
       "    <tr>\n",
       "      <th>3</th>\n",
       "      <td>3</td>\n",
       "      <td>2019-12-30</td>\n",
       "      <td>6629</td>\n",
       "      <td>3</td>\n",
       "      <td>31357.16</td>\n",
       "    </tr>\n",
       "    <tr>\n",
       "      <th>4</th>\n",
       "      <td>4</td>\n",
       "      <td>2019-12-30</td>\n",
       "      <td>6629</td>\n",
       "      <td>4</td>\n",
       "      <td>39510.82</td>\n",
       "    </tr>\n",
       "  </tbody>\n",
       "</table>\n",
       "</div>"
      ],
      "text/plain": [
       "   index first_week  n_users  lifetime    cumsum\n",
       "0      0 2019-12-30     6629         0     24.95\n",
       "1      1 2019-12-30     6629         1  12320.31\n",
       "2      2 2019-12-30     6629         2  22435.04\n",
       "3      3 2019-12-30     6629         3  31357.16\n",
       "4      4 2019-12-30     6629         4  39510.82"
      ]
     },
     "execution_count": 14,
     "metadata": {},
     "output_type": "execute_result"
    }
   ],
   "source": [
    "ltv = nusers_by_cohort.merge(purchase_by_cohort, on='first_week').reset_index()\n",
    "ltv.head()"
   ]
  },
  {
   "cell_type": "code",
   "execution_count": 15,
   "id": "ce291035",
   "metadata": {},
   "outputs": [
    {
     "data": {
      "text/html": [
       "<div>\n",
       "<style scoped>\n",
       "    .dataframe tbody tr th:only-of-type {\n",
       "        vertical-align: middle;\n",
       "    }\n",
       "\n",
       "    .dataframe tbody tr th {\n",
       "        vertical-align: top;\n",
       "    }\n",
       "\n",
       "    .dataframe thead th {\n",
       "        text-align: right;\n",
       "    }\n",
       "</style>\n",
       "<table border=\"1\" class=\"dataframe\">\n",
       "  <thead>\n",
       "    <tr style=\"text-align: right;\">\n",
       "      <th></th>\n",
       "      <th>index</th>\n",
       "      <th>first_week</th>\n",
       "      <th>n_users</th>\n",
       "      <th>lifetime</th>\n",
       "      <th>cumsum</th>\n",
       "      <th>ltv</th>\n",
       "    </tr>\n",
       "  </thead>\n",
       "  <tbody>\n",
       "    <tr>\n",
       "      <th>0</th>\n",
       "      <td>0</td>\n",
       "      <td>2019-12-30</td>\n",
       "      <td>6629</td>\n",
       "      <td>0</td>\n",
       "      <td>24.95</td>\n",
       "      <td>0.00</td>\n",
       "    </tr>\n",
       "    <tr>\n",
       "      <th>1</th>\n",
       "      <td>1</td>\n",
       "      <td>2019-12-30</td>\n",
       "      <td>6629</td>\n",
       "      <td>1</td>\n",
       "      <td>12320.31</td>\n",
       "      <td>1.86</td>\n",
       "    </tr>\n",
       "    <tr>\n",
       "      <th>2</th>\n",
       "      <td>2</td>\n",
       "      <td>2019-12-30</td>\n",
       "      <td>6629</td>\n",
       "      <td>2</td>\n",
       "      <td>22435.04</td>\n",
       "      <td>3.38</td>\n",
       "    </tr>\n",
       "    <tr>\n",
       "      <th>3</th>\n",
       "      <td>3</td>\n",
       "      <td>2019-12-30</td>\n",
       "      <td>6629</td>\n",
       "      <td>3</td>\n",
       "      <td>31357.16</td>\n",
       "      <td>4.73</td>\n",
       "    </tr>\n",
       "    <tr>\n",
       "      <th>4</th>\n",
       "      <td>4</td>\n",
       "      <td>2019-12-30</td>\n",
       "      <td>6629</td>\n",
       "      <td>4</td>\n",
       "      <td>39510.82</td>\n",
       "      <td>5.96</td>\n",
       "    </tr>\n",
       "  </tbody>\n",
       "</table>\n",
       "</div>"
      ],
      "text/plain": [
       "   index first_week  n_users  lifetime    cumsum   ltv\n",
       "0      0 2019-12-30     6629         0     24.95  0.00\n",
       "1      1 2019-12-30     6629         1  12320.31  1.86\n",
       "2      2 2019-12-30     6629         2  22435.04  3.38\n",
       "3      3 2019-12-30     6629         3  31357.16  4.73\n",
       "4      4 2019-12-30     6629         4  39510.82  5.96"
      ]
     },
     "execution_count": 15,
     "metadata": {},
     "output_type": "execute_result"
    }
   ],
   "source": [
    "ltv['ltv'] = ltv['cumsum'] / ltv['n_users']\n",
    "ltv['ltv'] = ltv['ltv'].round(2)\n",
    "ltv.head()"
   ]
  },
  {
   "cell_type": "code",
   "execution_count": 16,
   "id": "696f5f94",
   "metadata": {},
   "outputs": [
    {
     "data": {
      "text/html": [
       "<div>\n",
       "<style scoped>\n",
       "    .dataframe tbody tr th:only-of-type {\n",
       "        vertical-align: middle;\n",
       "    }\n",
       "\n",
       "    .dataframe tbody tr th {\n",
       "        vertical-align: top;\n",
       "    }\n",
       "\n",
       "    .dataframe thead th {\n",
       "        text-align: right;\n",
       "    }\n",
       "</style>\n",
       "<table border=\"1\" class=\"dataframe\">\n",
       "  <thead>\n",
       "    <tr style=\"text-align: right;\">\n",
       "      <th>lifetime</th>\n",
       "      <th>0</th>\n",
       "      <th>1</th>\n",
       "      <th>2</th>\n",
       "      <th>3</th>\n",
       "      <th>4</th>\n",
       "      <th>5</th>\n",
       "      <th>6</th>\n",
       "      <th>7</th>\n",
       "    </tr>\n",
       "    <tr>\n",
       "      <th>first_week</th>\n",
       "      <th></th>\n",
       "      <th></th>\n",
       "      <th></th>\n",
       "      <th></th>\n",
       "      <th></th>\n",
       "      <th></th>\n",
       "      <th></th>\n",
       "      <th></th>\n",
       "    </tr>\n",
       "  </thead>\n",
       "  <tbody>\n",
       "    <tr>\n",
       "      <th>2019-12-30</th>\n",
       "      <td>0.0</td>\n",
       "      <td>1.86</td>\n",
       "      <td>3.38</td>\n",
       "      <td>4.73</td>\n",
       "      <td>5.96</td>\n",
       "      <td>7.08</td>\n",
       "      <td>8.09</td>\n",
       "      <td>8.34</td>\n",
       "    </tr>\n",
       "    <tr>\n",
       "      <th>2020-01-06</th>\n",
       "      <td>0.0</td>\n",
       "      <td>1.73</td>\n",
       "      <td>3.14</td>\n",
       "      <td>4.38</td>\n",
       "      <td>5.48</td>\n",
       "      <td>6.48</td>\n",
       "      <td>6.90</td>\n",
       "      <td>NaN</td>\n",
       "    </tr>\n",
       "    <tr>\n",
       "      <th>2020-01-13</th>\n",
       "      <td>0.0</td>\n",
       "      <td>1.69</td>\n",
       "      <td>3.05</td>\n",
       "      <td>4.24</td>\n",
       "      <td>5.29</td>\n",
       "      <td>5.74</td>\n",
       "      <td>NaN</td>\n",
       "      <td>NaN</td>\n",
       "    </tr>\n",
       "    <tr>\n",
       "      <th>2020-01-20</th>\n",
       "      <td>0.0</td>\n",
       "      <td>1.60</td>\n",
       "      <td>2.83</td>\n",
       "      <td>3.87</td>\n",
       "      <td>4.33</td>\n",
       "      <td>NaN</td>\n",
       "      <td>NaN</td>\n",
       "      <td>NaN</td>\n",
       "    </tr>\n",
       "    <tr>\n",
       "      <th>2020-01-27</th>\n",
       "      <td>0.0</td>\n",
       "      <td>1.58</td>\n",
       "      <td>2.83</td>\n",
       "      <td>3.32</td>\n",
       "      <td>NaN</td>\n",
       "      <td>NaN</td>\n",
       "      <td>NaN</td>\n",
       "      <td>NaN</td>\n",
       "    </tr>\n",
       "    <tr>\n",
       "      <th>2020-02-03</th>\n",
       "      <td>0.0</td>\n",
       "      <td>1.57</td>\n",
       "      <td>2.15</td>\n",
       "      <td>NaN</td>\n",
       "      <td>NaN</td>\n",
       "      <td>NaN</td>\n",
       "      <td>NaN</td>\n",
       "      <td>NaN</td>\n",
       "    </tr>\n",
       "    <tr>\n",
       "      <th>2020-02-10</th>\n",
       "      <td>0.0</td>\n",
       "      <td>0.78</td>\n",
       "      <td>NaN</td>\n",
       "      <td>NaN</td>\n",
       "      <td>NaN</td>\n",
       "      <td>NaN</td>\n",
       "      <td>NaN</td>\n",
       "      <td>NaN</td>\n",
       "    </tr>\n",
       "    <tr>\n",
       "      <th>2020-02-17</th>\n",
       "      <td>0.0</td>\n",
       "      <td>NaN</td>\n",
       "      <td>NaN</td>\n",
       "      <td>NaN</td>\n",
       "      <td>NaN</td>\n",
       "      <td>NaN</td>\n",
       "      <td>NaN</td>\n",
       "      <td>NaN</td>\n",
       "    </tr>\n",
       "  </tbody>\n",
       "</table>\n",
       "</div>"
      ],
      "text/plain": [
       "lifetime      0     1     2     3     4     5     6     7\n",
       "first_week                                               \n",
       "2019-12-30  0.0  1.86  3.38  4.73  5.96  7.08  8.09  8.34\n",
       "2020-01-06  0.0  1.73  3.14  4.38  5.48  6.48  6.90   NaN\n",
       "2020-01-13  0.0  1.69  3.05  4.24  5.29  5.74   NaN   NaN\n",
       "2020-01-20  0.0  1.60  2.83  3.87  4.33   NaN   NaN   NaN\n",
       "2020-01-27  0.0  1.58  2.83  3.32   NaN   NaN   NaN   NaN\n",
       "2020-02-03  0.0  1.57  2.15   NaN   NaN   NaN   NaN   NaN\n",
       "2020-02-10  0.0  0.78   NaN   NaN   NaN   NaN   NaN   NaN\n",
       "2020-02-17  0.0   NaN   NaN   NaN   NaN   NaN   NaN   NaN"
      ]
     },
     "execution_count": 16,
     "metadata": {},
     "output_type": "execute_result"
    }
   ],
   "source": [
    "ltv_pivot = ltv.pivot_table(index='first_week', columns='lifetime', values='ltv')\n",
    "ltv_pivot"
   ]
  },
  {
   "cell_type": "code",
   "execution_count": 17,
   "id": "60a7c800",
   "metadata": {},
   "outputs": [
    {
     "data": {
      "image/png": "[encoded data removed]",
      "text/plain": [
       "<Figure size 720x360 with 2 Axes>"
      ]
     },
     "metadata": {
      "needs_background": "light"
     },
     "output_type": "display_data"
    }
   ],
   "source": [
    "plt.figure(figsize=(10, 5))\n",
    "plt.title('ltv: ' + 'first_week')\n",
    "sns.heatmap(ltv_pivot, annot=True, linewidths=1, linecolor='gray', fmt=\".2f\")\n",
    "plt.show()"
   ]
  },
  {
   "cell_type": "markdown",
   "id": "29dffd6e",
   "metadata": {},
   "source": [
    "Calculate average LTV by everyweek and cohorts:"
   ]
  },
  {
   "cell_type": "code",
   "execution_count": 18,
   "id": "762690c8",
   "metadata": {},
   "outputs": [
    {
     "data": {
      "text/html": [
       "<div>\n",
       "<style scoped>\n",
       "    .dataframe tbody tr th:only-of-type {\n",
       "        vertical-align: middle;\n",
       "    }\n",
       "\n",
       "    .dataframe tbody tr th {\n",
       "        vertical-align: top;\n",
       "    }\n",
       "\n",
       "    .dataframe thead th {\n",
       "        text-align: right;\n",
       "    }\n",
       "</style>\n",
       "<table border=\"1\" class=\"dataframe\">\n",
       "  <thead>\n",
       "    <tr style=\"text-align: right;\">\n",
       "      <th></th>\n",
       "      <th>lifetime</th>\n",
       "      <th>ltv</th>\n",
       "    </tr>\n",
       "  </thead>\n",
       "  <tbody>\n",
       "    <tr>\n",
       "      <th>0</th>\n",
       "      <td>0</td>\n",
       "      <td>0.000000</td>\n",
       "    </tr>\n",
       "    <tr>\n",
       "      <th>1</th>\n",
       "      <td>1</td>\n",
       "      <td>1.544286</td>\n",
       "    </tr>\n",
       "    <tr>\n",
       "      <th>2</th>\n",
       "      <td>2</td>\n",
       "      <td>2.896667</td>\n",
       "    </tr>\n",
       "    <tr>\n",
       "      <th>3</th>\n",
       "      <td>3</td>\n",
       "      <td>4.108000</td>\n",
       "    </tr>\n",
       "    <tr>\n",
       "      <th>4</th>\n",
       "      <td>4</td>\n",
       "      <td>5.265000</td>\n",
       "    </tr>\n",
       "    <tr>\n",
       "      <th>5</th>\n",
       "      <td>5</td>\n",
       "      <td>6.433333</td>\n",
       "    </tr>\n",
       "    <tr>\n",
       "      <th>6</th>\n",
       "      <td>6</td>\n",
       "      <td>7.495000</td>\n",
       "    </tr>\n",
       "    <tr>\n",
       "      <th>7</th>\n",
       "      <td>7</td>\n",
       "      <td>8.340000</td>\n",
       "    </tr>\n",
       "  </tbody>\n",
       "</table>\n",
       "</div>"
      ],
      "text/plain": [
       "   lifetime       ltv\n",
       "0         0  0.000000\n",
       "1         1  1.544286\n",
       "2         2  2.896667\n",
       "3         3  4.108000\n",
       "4         4  5.265000\n",
       "5         5  6.433333\n",
       "6         6  7.495000\n",
       "7         7  8.340000"
      ]
     },
     "execution_count": 18,
     "metadata": {},
     "output_type": "execute_result"
    }
   ],
   "source": [
    "weekly_mean_ltv = ltv.groupby('lifetime').agg({'ltv': 'mean'}).reset_index()\n",
    "weekly_mean_ltv"
   ]
  },
  {
   "cell_type": "markdown",
   "id": "77b83780",
   "metadata": {},
   "source": [
    "#### 1.2. Predict what LTV will be for six months."
   ]
  },
  {
   "cell_type": "markdown",
   "id": "a626d9ea",
   "metadata": {},
   "source": [
    "To predict the LTV, we will use the following logarithmic formula:\n",
    "\n",
    "a + b * ln(t), where:\n",
    "\n",
    "t - number of weeks;"
   ]
  },
  {
   "cell_type": "markdown",
   "id": "1910dd61",
   "metadata": {},
   "source": [
    "I'll using <b>scipy.optimize curve_fit</b>"
   ]
  },
  {
   "cell_type": "code",
   "execution_count": 19,
   "id": "6dcec021",
   "metadata": {},
   "outputs": [
    {
     "data": {
      "text/plain": [
       "array([0.87286874, 3.51546646])"
      ]
     },
     "execution_count": 19,
     "metadata": {},
     "output_type": "execute_result"
    }
   ],
   "source": [
    "x = weekly_mean_ltv[weekly_mean_ltv['lifetime'] != 0].lifetime\n",
    "y = weekly_mean_ltv[weekly_mean_ltv['lifetime'] != 0].ltv\n",
    "y = y.round(2)\n",
    "\n",
    "coefficient, cov = optimize.curve_fit(lambda t, a, b: a + b * np.log(t), x, y)\n",
    "coefficient"
   ]
  },
  {
   "cell_type": "code",
   "execution_count": 20,
   "id": "f8f5930a",
   "metadata": {},
   "outputs": [
    {
     "data": {
      "text/plain": [
       "12.326597844468163"
      ]
     },
     "execution_count": 20,
     "metadata": {},
     "output_type": "execute_result"
    }
   ],
   "source": [
    "ltv_26week = coefficient[0] + coefficient[1] * np.log(26)\n",
    "ltv_26week"
   ]
  },
  {
   "cell_type": "markdown",
   "id": "cf68d7b4",
   "metadata": {},
   "source": [
    "LTV in six months (week 26) will be $12.32."
   ]
  },
  {
   "cell_type": "markdown",
   "id": "29019038",
   "metadata": {},
   "source": [
    "#### 1.3 Let's build a graph that will display the actual LTV curve against the background of the predicted LTV curve."
   ]
  },
  {
   "cell_type": "markdown",
   "id": "2dbaf9e3",
   "metadata": {},
   "source": [
    "Since we have data about the service and subscriptions, and, accordingly, LTV for 8 weeks. Let's start building a predicted LTV curve from week 8:"
   ]
  },
  {
   "cell_type": "code",
   "execution_count": 21,
   "id": "f1fae220",
   "metadata": {},
   "outputs": [],
   "source": [
    "prediction_ltv = np.hstack([weekly_mean_ltv.lifetime, [8, 12, 16, 20, 26]])"
   ]
  },
  {
   "cell_type": "markdown",
   "id": "aa483125",
   "metadata": {},
   "source": [
    "Let's write a function to predict LTV:"
   ]
  },
  {
   "cell_type": "code",
   "execution_count": 22,
   "id": "0b12cfe8",
   "metadata": {},
   "outputs": [],
   "source": [
    "def prediction_ltv_function(time):\n",
    "    pred_ltv = coefficient[0] + coefficient[1] * np.log(time)\n",
    "    return pred_ltv"
   ]
  },
  {
   "cell_type": "code",
   "execution_count": 23,
   "id": "69e83023",
   "metadata": {},
   "outputs": [
    {
     "data": {
      "image/png": "[encoded data removed]",
      "text/plain": [
       "<Figure size 432x288 with 1 Axes>"
      ]
     },
     "metadata": {
      "needs_background": "light"
     },
     "output_type": "display_data"
    }
   ],
   "source": [
    "plt.scatter(x[1:], y[1:])\n",
    "plt.plot(prediction_ltv[1:], prediction_ltv_function(prediction_ltv[1:]))\n",
    "plt.title('Chart of current and projected LTV')\n",
    "plt.xlabel('Time (in weeks)')\n",
    "plt.ylabel('LTV')\n",
    "plt.show()"
   ]
  },
  {
   "cell_type": "markdown",
   "id": "dd8e9bc8",
   "metadata": {},
   "source": [
    "#### 1.4 Let's calculate ROMI for 4 weeks and for half (26 week) a year."
   ]
  },
  {
   "cell_type": "markdown",
   "id": "331eb592",
   "metadata": {},
   "source": [
    "Let's see how the investment in marketing pays off if the cost of attracting a paying user is 6 USD."
   ]
  },
  {
   "cell_type": "markdown",
   "id": "6eecb798",
   "metadata": {},
   "source": [
    "To calculate this indicator, we will use a simple formula:\n",
    "\n",
    "(А - В) / В * 100, where:\n",
    "* <b> A </b>- increase;\n",
    "* <b> B </b>- marketing costs;"
   ]
  },
  {
   "cell_type": "code",
   "execution_count": 24,
   "id": "215fd736",
   "metadata": {},
   "outputs": [
    {
     "data": {
      "text/plain": [
       "-31.533333333333342"
      ]
     },
     "execution_count": 24,
     "metadata": {},
     "output_type": "execute_result"
    }
   ],
   "source": [
    "ROMI_4WEEK = (weekly_mean_ltv['ltv'][3] - 6) / 6 * 100\n",
    "ROMI_4WEEK"
   ]
  },
  {
   "cell_type": "code",
   "execution_count": 25,
   "id": "e8384801",
   "metadata": {},
   "outputs": [
    {
     "data": {
      "text/plain": [
       "105.44329740780272"
      ]
     },
     "execution_count": 25,
     "metadata": {},
     "output_type": "execute_result"
    }
   ],
   "source": [
    "ROMI_26WEEK = (prediction_ltv_function(26) - 6) / 6 * 100\n",
    "ROMI_26WEEK"
   ]
  },
  {
   "cell_type": "markdown",
   "id": "0fcfc9a8",
   "metadata": {},
   "source": [
    "As you can see, after 4 weeks, users are not paying off, since the ROMI is -31.5%.\n",
    "\n",
    "In six months, users pay off twice, ROMI is more than 100%."
   ]
  }
 ],
 "metadata": {
  "kernelspec": {
   "display_name": "Python 3",
   "language": "python",
   "name": "python3"
  },
  "language_info": {
   "codemirror_mode": {
    "name": "ipython",
    "version": 3
   },
   "file_extension": ".py",
   "mimetype": "text/x-python",
   "name": "python",
   "nbconvert_exporter": "python",
   "pygments_lexer": "ipython3",
   "version": "3.8.8"
  }
 },
 "nbformat": 4,
 "nbformat_minor": 5
}
